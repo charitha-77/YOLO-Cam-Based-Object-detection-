{
  "nbformat": 4,
  "nbformat_minor": 0,
  "metadata": {
    "colab": {
      "provenance": [],
      "gpuType": "T4"
    },
    "kernelspec": {
      "name": "python3",
      "display_name": "Python 3"
    },
    "language_info": {
      "name": "python"
    }
  },
  "cells": [
    {
      "cell_type": "code",
      "execution_count": null,
      "metadata": {
        "id": "Q1RRuXM5QaRx"
      },
      "outputs": [],
      "source": [
        "import torch\n",
        "import torch.nn as nn\n",
        "import torch.optim as optim\n",
        "import pandas as pd\n",
        "import matplotlib.pyplot as plt\n",
        "from torch.utils.data import Dataset"
      ]
    },
    {
      "cell_type": "markdown",
      "source": [
        "In this cell we imported all libraries needed"
      ],
      "metadata": {
        "id": "zfjuik1OyF_C"
      }
    },
    {
      "cell_type": "code",
      "source": [
        "# Step 2: Prepare the Dataset for Training\n",
        "class CustomDataset(torch.utils.data.Dataset):\n",
        "    def __init__(self, file_path):\n",
        "        self.data = pd.read_csv(file_path)\n",
        "        self.features = self.data[[\"Sensor1\",\"Sensor2\",\"Sensor3\",\"Sensor4\",\"Sensor5\"]]\n",
        "        self.targets = self.data[\"Temperature\"]\n",
        "\n",
        "    def __len__(self):\n",
        "        return len(self.data)\n",
        "\n",
        "    def __getitem__(self, idx):\n",
        "        features = torch.tensor(self.features.iloc[idx].values, dtype=torch.float32)\n",
        "        target = torch.tensor(self.targets.iloc[idx], dtype=torch.float32).unsqueeze(0)\n",
        "        return features, target\n"
      ],
      "metadata": {
        "id": "RPebfqz8QoHC"
      },
      "execution_count": null,
      "outputs": []
    },
    {
      "cell_type": "markdown",
      "source": [
        "These functions will be implicitly called when we use dataLoader , they will read data and getitem function converts features and targets into corresponding tensors for each entry."
      ],
      "metadata": {
        "id": "3iHeag2RyPGI"
      }
    },
    {
      "cell_type": "code",
      "source": [
        "# Load the dataset using the custom dataset class\n",
        "file_path = \"Data.csv\"  # Update with the correct file path\n",
        "dataset = CustomDataset(file_path)"
      ],
      "metadata": {
        "id": "eEXea34sns7-"
      },
      "execution_count": null,
      "outputs": []
    },
    {
      "cell_type": "markdown",
      "source": [
        "This cell takes path of datafile"
      ],
      "metadata": {
        "id": "K_XnyO6bzRIu"
      }
    },
    {
      "cell_type": "code",
      "source": [
        "# Step 3: Create a Linear Regression Model\n",
        "class LinearRegressionModel(nn.Module):\n",
        "    def __init__(self, input_size):\n",
        "        super(LinearRegressionModel, self).__init__()\n",
        "        self.linear = nn.Linear(input_size, 1)\n",
        "\n",
        "    def forward(self, x):\n",
        "        return self.linear(x)\n"
      ],
      "metadata": {
        "id": "XlZNNc8Tfnqq"
      },
      "execution_count": null,
      "outputs": []
    },
    {
      "cell_type": "markdown",
      "source": [
        "In this cell init part intialises the linear regression model, and forward part will return output calculated from this model for each input."
      ],
      "metadata": {
        "id": "W3etKBkTzXXr"
      }
    },
    {
      "cell_type": "code",
      "source": [
        "# Set hyperparameters\n",
        "learning_rate = 0.1\n",
        "num_epochs = 10\n",
        "batch_size = 16\n",
        "input_size = 5  # Update with the appropriate input size\n",
        "\n",
        "# Initialize the model\n",
        "model = LinearRegressionModel(input_size)\n",
        "\n",
        "# Define loss function and optimizer\n",
        "criterion = nn.MSELoss()\n",
        "optimizer = optim.SGD(model.parameters(), lr=learning_rate)\n",
        "\n",
        "# Create data loader for batching\n",
        "dataloader = torch.utils.data.DataLoader(dataset, batch_size=batch_size, shuffle=False)\n",
        "\n",
        "# Training loop\n",
        "iteration_list = []\n",
        "loss_list = []\n",
        "total_batches = len(dataloader)\n",
        "\n",
        "for epoch in range(num_epochs):\n",
        "    for batch_idx, (batch_features, batch_targets) in enumerate(dataloader):\n",
        "        # Forward pass\n",
        "        outputs = model(batch_features)\n",
        "        loss = criterion(outputs, batch_targets)\n",
        "\n",
        "        # Backward and optimize\n",
        "        optimizer.zero_grad()\n",
        "        loss.backward()\n",
        "        optimizer.step()\n",
        "\n",
        "        # Track loss and iteration\n",
        "        iteration = epoch * total_batches + batch_idx\n",
        "        iteration_list.append(iteration)\n",
        "        loss_list.append(loss.item())\n"
      ],
      "metadata": {
        "id": "RjT6oL7FnxoK"
      },
      "execution_count": null,
      "outputs": []
    },
    {
      "cell_type": "markdown",
      "source": [
        "This cell takes in values of required parametres and executes the gradient descent which updates the values of parameters in each iteration with optimisation specified.This will also collects loss in each iteration and make it an array"
      ],
      "metadata": {
        "id": "boIl0EHwz6xA"
      }
    },
    {
      "cell_type": "code",
      "source": [
        "# Plotting the iteration vs loss graph\n",
        "plt.plot(iteration_list, loss_list)\n",
        "plt.xlabel(\"Iteration\")\n",
        "plt.ylabel(\"Loss\")\n",
        "plt.show()\n"
      ],
      "metadata": {
        "colab": {
          "base_uri": "https://localhost:8080/",
          "height": 449
        },
        "id": "KfsbBSZIn1tg",
        "outputId": "56387bc2-1f54-4f9c-c201-902711736b75"
      },
      "execution_count": null,
      "outputs": [
        {
          "output_type": "display_data",
          "data": {
            "text/plain": [
              "<Figure size 640x480 with 1 Axes>"
            ],
            "image/png": "[encoded data removed]"
          },
          "metadata": {}
        }
      ]
    },
    {
      "cell_type": "markdown",
      "source": [
        "Plot generation"
      ],
      "metadata": {
        "id": "_MpO4kvG1zKs"
      }
    },
    {
      "cell_type": "code",
      "source": [
        "print(loss_list[-1])\n",
        "print(loss_list[-2])"
      ],
      "metadata": {
        "colab": {
          "base_uri": "https://localhost:8080/"
        },
        "id": "oVj7u3oytO40",
        "outputId": "ba82bd32-ce68-46f6-cf49-2ad784dc3fa3"
      },
      "execution_count": null,
      "outputs": [
        {
          "output_type": "stream",
          "name": "stdout",
          "text": [
            "0.5605276226997375\n",
            "9.407958030700684\n"
          ]
        }
      ]
    },
    {
      "cell_type": "markdown",
      "source": [
        "Printing the last 2 losses."
      ],
      "metadata": {
        "id": "GpqkaFZL18ZU"
      }
    }
  ]
}